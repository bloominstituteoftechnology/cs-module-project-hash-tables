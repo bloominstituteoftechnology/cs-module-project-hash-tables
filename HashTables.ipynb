{
 "cells": [
  {
   "cell_type": "code",
   "execution_count": 9,
   "metadata": {},
   "outputs": [],
   "source": [
    "class HashTableEntry:\n",
    "    \"\"\"\n",
    "    Linked List hash table key/value pair.\n",
    "    \"\"\"\n",
    "    def __init__(self, key, value):\n",
    "        self.key = key\n",
    "        self.value = value\n",
    "        self.next = None\n",
    "        \n",
    "    def __repr__(self):\n",
    "        return f'HashTableEntry({repr(self.key)},{repr(self.value)})'\n",
    "    \n",
    "MIN_CAPACITY = 8\n",
    "\n",
    "class HashTable:\n",
    "    \"\"\"\n",
    "    A hash table with `capacity` buckets\n",
    "    that accepts string keys\n",
    "\n",
    "    Implement this.\n",
    "    \"\"\"\n",
    "\n",
    "    def __init__(self, capacity=8):\n",
    "        # Hash table can't have fewer than this many slots\n",
    "        self.capacity = capacity\n",
    "        self.storage = [None] * self.capacity\n",
    "\n",
    "    def get_num_slots(self):\n",
    "        \"\"\"\n",
    "        Return the length of the list you're using to hold the hash\n",
    "        table data. (Not the number of items stored in the hash table,\n",
    "        but the number of slots in the main list.)\n",
    "\n",
    "        One of the tests relies on this.\n",
    "\n",
    "        Implement this.\n",
    "        \"\"\"\n",
    "        num_slots = len(self.storage)\n",
    "        return num_slots\n",
    "\n",
    "    def get_load_factor(self):\n",
    "        \"\"\"\n",
    "        Return the load factor for this hash table.\n",
    "\n",
    "        Implement this.\n",
    "        \"\"\"\n",
    "        # Your code here\n",
    "        pass\n",
    "\n",
    "    def fnv1(self, key):\n",
    "        \"\"\"\n",
    "        FNV-1 Hash, 64-bit\n",
    "\n",
    "        Implement this, and/or DJB2.\n",
    "        \"\"\"\n",
    "\n",
    "        # Your code here\n",
    "        pass\n",
    "\n",
    "    def djb2(self, key):\n",
    "        \"\"\"\n",
    "        DJB2 hash, 32-bit\n",
    "\n",
    "        Implement this, and/or FNV-1.\n",
    "        \"\"\"\n",
    "        hash = 5381\n",
    "        for x in key:\n",
    "            hash = (( hash << 5) + hash) + ord(x)\n",
    "        return hash & 0xFFFFFFFF\n",
    "\n",
    "\n",
    "    def hash_index(self, key):\n",
    "        \"\"\"\n",
    "        Take an arbitrary key and return a valid integer index\n",
    "        between within the storage capacity of the hash table.\n",
    "        \"\"\"\n",
    "        #return self.fnv1(key) % self.capacity\n",
    "        return self.djb2(key) % self.capacity\n",
    "\n",
    "    \n",
    "    def put(self, key, value):\n",
    "        \"\"\"\n",
    "        Store the value with the given key.\n",
    "\n",
    "        Hash collisions should be handled with Linked List Chaining.\n",
    "\n",
    "        Implement this.\n",
    "        \"\"\"\n",
    "        # Find position of key in hash table\n",
    "        position = self.hash_index(key)\n",
    "        \n",
    "        # If hash table position is filled\n",
    "        if self.storage[position] != None:\n",
    "            # Create a HashTableEntry\n",
    "            entry = self.storage[position]\n",
    "            # While an entry exists\n",
    "            while entry:\n",
    "                # If our value is in our HashTableEntry, replace value\n",
    "                if entry.key == key:\n",
    "                    # Set the value of the entry to value being put\n",
    "                    entry.value = value\n",
    "                    # insertion complete\n",
    "                    break\n",
    "                elif entry.next == None:\n",
    "                    # If arrived at the end of the HashTableEntry\n",
    "                    # add new value\n",
    "                    entry.next = HashTableEntry(key, value)\n",
    "                    # insertion complete\n",
    "                    break\n",
    "                else:\n",
    "                    entry = entry.next\n",
    "\n",
    "        # If hash table position is empty, add entry\n",
    "        else:\n",
    "            self.storage[position] = HashTableEntry(key, value)\n",
    "\n",
    "    def delete(self, key):\n",
    "        \"\"\"\n",
    "        Remove the value stored with the given key.\n",
    "\n",
    "        Print a warning if the key is not found.\n",
    "\n",
    "        Implement this.\n",
    "        \"\"\"\n",
    "        # Find the position in table where value exists given key\n",
    "        position = self.hash_index(key)\n",
    "        entry = self.storage[position]\n",
    "        \n",
    "        if self.storage[position] == None:\n",
    "            return('There is no key & value at that position!')\n",
    "        \n",
    "        # If our hash table entry is a no-collision, one entry long case\n",
    "        if entry.next == None:\n",
    "            # Delete value\n",
    "            if entry.key == key:\n",
    "                entry.value = None\n",
    "                return\n",
    "            # Return error message if no slot is filled but with no hash table entry    \n",
    "            else:\n",
    "                return(\"Can't remove it if it doesn't exist!\")\n",
    "        \n",
    "        # While there are multiple entries at that position of the hash table\n",
    "        while entry:\n",
    "            # base case of removing value\n",
    "            if entry.key == key:\n",
    "                entry.value = None\n",
    "                return(f\"Value for key '{key}' deleted.\")\n",
    "            # cycling through linked list of entries    \n",
    "            entry = entry.next\n",
    "        # Outlier case where we go through list of collided entries but no value were deleted\n",
    "        return('There is no key of that value!')\n",
    "\n",
    "\n",
    "    def get(self, key):\n",
    "        \"\"\"\n",
    "        Retrieve the value stored with the given key.\n",
    "\n",
    "        Returns None if the key is not found.\n",
    "\n",
    "        Implement this.\n",
    "        \"\"\"\n",
    "        # Get position and entry information for key\n",
    "        position = self.hash_index(key)\n",
    "        entry = self.storage[position]\n",
    "        \n",
    "        # Staged lookup value for get command\n",
    "        lookup = None\n",
    "        \n",
    "        # While entry is not None\n",
    "        while entry:\n",
    "            # cycle \n",
    "            if entry.key == key:\n",
    "                lookup = entry.value\n",
    "                return lookup\n",
    "            else:\n",
    "                entry = entry.next\n",
    "        return \"Value not found.\"\n",
    "\n",
    "\n",
    "    def resize(self, new_capacity):\n",
    "        \"\"\"\n",
    "        Changes the capacity of the hash table and\n",
    "        rehashes all key/value pairs.\n",
    "\n",
    "        Implement this.\n",
    "        \"\"\"\n",
    "        self.capacity = new_capacity\n",
    "        new_storage = [None] * self.capacity\n",
    "        \n",
    "        for i in self.storage:\n",
    "            if i != None:\n",
    "                entry = i\n",
    "                while entry:\n",
    "                    key = entry.key\n",
    "                    value = entry.value\n",
    "                    pos = self.hash_index(key)\n",
    "                    new_entry = new_storage[pos]\n",
    "                    \n",
    "                    if new_entry != None:\n",
    "                        \n",
    "                        while new_entry:\n",
    "                            if new_entry.next != None:\n",
    "                                new_entry = new_entry.next\n",
    "                            else:\n",
    "                                new_entry.next = HashTableEntry(key, value)\n",
    "                                new_entry = None\n",
    "                    else:\n",
    "                        new_storage[pos] = HashTableEntry(key, value)\n",
    "                        \n",
    "                    entry = entry.next\n",
    "        self.storage = new_storage\n"
   ]
  },
  {
   "cell_type": "code",
   "execution_count": 27,
   "metadata": {},
   "outputs": [
    {
     "name": "stdout",
     "output_type": "stream",
     "text": [
      "48\n",
      "49\n",
      "50\n",
      "51\n",
      "52\n",
      "53\n",
      "54\n",
      "55\n",
      "56\n",
      "57\n"
     ]
    }
   ],
   "source": [
    "for i in range(10):\n",
    "    print(ht.get(str(i)))"
   ]
  },
  {
   "cell_type": "code",
   "execution_count": 8,
   "metadata": {},
   "outputs": [],
   "source": [
    "fibs = {}\n",
    "\n",
    "def fib(n):\n",
    "    if n <= 1:\n",
    "        return n\n",
    "    if n not in fibs:\n",
    "        fibs[n] = fib(n-1) + fib(n-2)\n",
    "    \n",
    "    return fibs[n]"
   ]
  },
  {
   "cell_type": "code",
   "execution_count": 11,
   "metadata": {},
   "outputs": [
    {
     "data": {
      "text/plain": [
       "354224848179261915075"
      ]
     },
     "execution_count": 11,
     "metadata": {},
     "output_type": "execute_result"
    }
   ],
   "source": [
    "fib(100)"
   ]
  },
  {
   "cell_type": "code",
   "execution_count": 23,
   "metadata": {},
   "outputs": [
    {
     "data": {
      "text/plain": [
       "7.0"
      ]
     },
     "execution_count": 23,
     "metadata": {},
     "output_type": "execute_result"
    }
   ],
   "source": [
    "15.23 // 2.1"
   ]
  },
  {
   "cell_type": "code",
   "execution_count": 24,
   "metadata": {},
   "outputs": [
    {
     "data": {
      "text/plain": [
       "7.252380952380952"
      ]
     },
     "execution_count": 24,
     "metadata": {},
     "output_type": "execute_result"
    }
   ],
   "source": [
    "15.23 / 2.1"
   ]
  },
  {
   "cell_type": "code",
   "execution_count": 25,
   "metadata": {},
   "outputs": [
    {
     "data": {
      "text/plain": [
       "1"
      ]
     },
     "execution_count": 25,
     "metadata": {},
     "output_type": "execute_result"
    }
   ],
   "source": [
    "15 % 2"
   ]
  },
  {
   "cell_type": "code",
   "execution_count": null,
   "metadata": {},
   "outputs": [],
   "source": []
  }
 ],
 "metadata": {
  "kernelspec": {
   "display_name": "scratch",
   "language": "python",
   "name": "scratch"
  },
  "language_info": {
   "codemirror_mode": {
    "name": "ipython",
    "version": 3
   },
   "file_extension": ".py",
   "mimetype": "text/x-python",
   "name": "python",
   "nbconvert_exporter": "python",
   "pygments_lexer": "ipython3",
   "version": "3.7.7"
  }
 },
 "nbformat": 4,
 "nbformat_minor": 4
}
