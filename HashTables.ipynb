{
 "cells": [
  {
   "cell_type": "code",
   "execution_count": 9,
   "metadata": {},
   "outputs": [],
   "source": [
    "class HashTableEntry:\n",
    "    \"\"\"\n",
    "    Linked List hash table key/value pair.\n",
    "    \"\"\"\n",
    "    def __init__(self, key, value):\n",
    "        self.key = key\n",
    "        self.value = value\n",
    "        self.next = None\n",
    "        \n",
    "    def __repr__(self):\n",
    "        return f'HashTableEntry({repr(self.key)},{repr(self.value)})'\n",
    "    \n",
    "MIN_CAPACITY = 8\n",
    "\n",
    "class HashTable:\n",
    "    \"\"\"\n",
    "    A hash table with `capacity` buckets\n",
    "    that accepts string keys\n",
    "\n",
    "    Implement this.\n",
    "    \"\"\"\n",
    "\n",
    "    def __init__(self, capacity=8):\n",
    "        # Hash table can't have fewer than this many slots\n",
    "        self.capacity = capacity\n",
    "        self.storage = [None] * self.capacity\n",
    "\n",
    "    def get_num_slots(self):\n",
    "        \"\"\"\n",
    "        Return the length of the list you're using to hold the hash\n",
    "        table data. (Not the number of items stored in the hash table,\n",
    "        but the number of slots in the main list.)\n",
    "\n",
    "        One of the tests relies on this.\n",
    "\n",
    "        Implement this.\n",
    "        \"\"\"\n",
    "        num_slots = len(self.storage)\n",
    "        return num_slots\n",
    "\n",
    "    def get_load_factor(self):\n",
    "        \"\"\"\n",
    "        Return the load factor for this hash table.\n",
    "\n",
    "        Implement this.\n",
    "        \"\"\"\n",
    "        # Your code here\n",
    "        pass\n",
    "\n",
    "    def fnv1(self, key):\n",
    "        \"\"\"\n",
    "        FNV-1 Hash, 64-bit\n",
    "\n",
    "        Implement this, and/or DJB2.\n",
    "        \"\"\"\n",
    "\n",
    "        # Your code here\n",
    "        pass\n",
    "\n",
    "    def djb2(self, key):\n",
    "        \"\"\"\n",
    "        DJB2 hash, 32-bit\n",
    "\n",
    "        Implement this, and/or FNV-1.\n",
    "        \"\"\"\n",
    "        hash = 5381\n",
    "        for x in key:\n",
    "            hash = (( hash << 5) + hash) + ord(x)\n",
    "        return hash & 0xFFFFFFFF\n",
    "\n",
    "\n",
    "    def hash_index(self, key):\n",
    "        \"\"\"\n",
    "        Take an arbitrary key and return a valid integer index\n",
    "        between within the storage capacity of the hash table.\n",
    "        \"\"\"\n",
    "        #return self.fnv1(key) % self.capacity\n",
    "        return self.djb2(key) % self.capacity\n",
    "\n",
    "    \n",
    "    def put(self, key, value):\n",
    "        \"\"\"\n",
    "        Store the value with the given key.\n",
    "\n",
    "        Hash collisions should be handled with Linked List Chaining.\n",
    "\n",
    "        Implement this.\n",
    "        \"\"\"\n",
    "        # Find position of key in hash table\n",
    "        position = self.hash_index(key)\n",
    "        \n",
    "        # If hash table position is filled\n",
    "        if self.storage[position] != None:\n",
    "            # Create a HashTableEntry\n",
    "            entry = self.storage[position]\n",
    "            # While an entry exists\n",
    "            while entry:\n",
    "                # If our value is in our HashTableEntry, replace value\n",
    "                if entry.key == key:\n",
    "                    # Set the value of the entry to value being put\n",
    "                    entry.value = value\n",
    "                    # insertion complete\n",
    "                    break\n",
    "                elif entry.next == None:\n",
    "                    # If arrived at the end of the HashTableEntry\n",
    "                    # add new value\n",
    "                    entry.next = HashTableEntry(key, value)\n",
    "                    # insertion complete\n",
    "                    break\n",
    "                else:\n",
    "                    entry = entry.next\n",
    "\n",
    "        # If hash table position is empty, add entry\n",
    "        else:\n",
    "            self.storage[position] = HashTableEntry(key, value)\n",
    "\n",
    "    def delete(self, key):\n",
    "        \"\"\"\n",
    "        Remove the value stored with the given key.\n",
    "\n",
    "        Print a warning if the key is not found.\n",
    "\n",
    "        Implement this.\n",
    "        \"\"\"\n",
    "        # Find the position in table where value exists given key\n",
    "        position = self.hash_index(key)\n",
    "        entry = self.storage[position]\n",
    "        \n",
    "        if self.storage[position] == None:\n",
    "            return('There is no key & value at that position!')\n",
    "        \n",
    "        # If our hash table entry is a no-collision, one entry long case\n",
    "        if entry.next == None:\n",
    "            # Delete value\n",
    "            if entry.key == key:\n",
    "                entry.value = None\n",
    "                return\n",
    "            # Return error message if no slot is filled but with no hash table entry    \n",
    "            else:\n",
    "                return(\"Can't remove it if it doesn't exist!\")\n",
    "        \n",
    "        # While there are multiple entries at that position of the hash table\n",
    "        while entry:\n",
    "            # base case of removing value\n",
    "            if entry.key == key:\n",
    "                entry.value = None\n",
    "                return(f\"Value for key '{key}' deleted.\")\n",
    "            # cycling through linked list of entries    \n",
    "            entry = entry.next\n",
    "        # Outlier case where we go through list of collided entries but no value were deleted\n",
    "        return('There is no key of that value!')\n",
    "\n",
    "\n",
    "    def get(self, key):\n",
    "        \"\"\"\n",
    "        Retrieve the value stored with the given key.\n",
    "\n",
    "        Returns None if the key is not found.\n",
    "\n",
    "        Implement this.\n",
    "        \"\"\"\n",
    "        # Get position and entry information for key\n",
    "        position = self.hash_index(key)\n",
    "        entry = self.storage[position]\n",
    "        \n",
    "        # Staged lookup value for get command\n",
    "        lookup = None\n",
    "        \n",
    "        # While entry is not None\n",
    "        while entry:\n",
    "            # cycle \n",
    "            if entry.key == key:\n",
    "                lookup = entry.value\n",
    "                return lookup\n",
    "            else:\n",
    "                entry = entry.next\n",
    "        return \"Value not found.\"\n",
    "\n",
    "\n",
    "    def resize(self, new_capacity):\n",
    "        \"\"\"\n",
    "        Changes the capacity of the hash table and\n",
    "        rehashes all key/value pairs.\n",
    "\n",
    "        Implement this.\n",
    "        \"\"\"\n",
    "        self.capacity = new_capacity\n",
    "        new_storage = [None] * self.capacity\n",
    "        \n",
    "        for i in self.storage:\n",
    "            if i != None:\n",
    "                entry = i\n",
    "                while entry:\n",
    "                    key = entry.key\n",
    "                    value = entry.value\n",
    "                    pos = self.hash_index(key)\n",
    "                    new_entry = new_storage[pos]\n",
    "                    \n",
    "                    if new_entry != None:\n",
    "                        \n",
    "                        while new_entry:\n",
    "                            if new_entry.next != None:\n",
    "                                new_entry = new_entry.next\n",
    "                            else:\n",
    "                                new_entry.next = HashTableEntry(key, value)\n",
    "                                new_entry = None\n",
    "                    else:\n",
    "                        new_storage[pos] = HashTableEntry(key, value)\n",
    "                        \n",
    "                    entry = entry.next\n",
    "        self.storage = new_storage\n"
   ]
  },
  {
   "cell_type": "code",
   "execution_count": 27,
   "metadata": {},
   "outputs": [
    {
     "name": "stdout",
     "output_type": "stream",
     "text": [
      "48\n",
      "49\n",
      "50\n",
      "51\n",
      "52\n",
      "53\n",
      "54\n",
      "55\n",
      "56\n",
      "57\n"
     ]
    }
   ],
   "source": [
    "for i in range(10):\n",
    "    print(ht.get(str(i)))"
   ]
  },
  {
   "cell_type": "code",
   "execution_count": 8,
   "metadata": {},
   "outputs": [],
   "source": [
    "fibs = {}\n",
    "\n",
    "def fib(n):\n",
    "    if n <= 1:\n",
    "        return n\n",
    "    if n not in fibs:\n",
    "        fibs[n] = fib(n-1) + fib(n-2)\n",
    "    \n",
    "    return fibs[n]"
   ]
  },
  {
   "cell_type": "code",
   "execution_count": 11,
   "metadata": {},
   "outputs": [
    {
     "data": {
      "text/plain": [
       "354224848179261915075"
      ]
     },
     "execution_count": 11,
     "metadata": {},
     "output_type": "execute_result"
    }
   ],
   "source": [
    "fib(100)"
   ]
  },
  {
   "cell_type": "code",
   "execution_count": 23,
   "metadata": {},
   "outputs": [
    {
     "data": {
      "text/plain": [
       "7.0"
      ]
     },
     "execution_count": 23,
     "metadata": {},
     "output_type": "execute_result"
    }
   ],
   "source": [
    "15.23 // 2.1"
   ]
  },
  {
   "cell_type": "code",
   "execution_count": 24,
   "metadata": {},
   "outputs": [
    {
     "data": {
      "text/plain": [
       "7.252380952380952"
      ]
     },
     "execution_count": 24,
     "metadata": {},
     "output_type": "execute_result"
    }
   ],
   "source": [
    "15.23 / 2.1"
   ]
  },
  {
   "cell_type": "code",
   "execution_count": 25,
   "metadata": {},
   "outputs": [
    {
     "data": {
      "text/plain": [
       "1"
      ]
     },
     "execution_count": 25,
     "metadata": {},
     "output_type": "execute_result"
    }
   ],
   "source": [
    "15 % 2"
   ]
  },
  {
   "cell_type": "code",
   "execution_count": 28,
   "metadata": {},
   "outputs": [],
   "source": [
    "cache = {}\n",
    "def exps(x, y, z):\n",
    "    # Your code here\n",
    "\n",
    "    key = (x, y, z)\n",
    "    if key in cache:\n",
    "        return cache[key]\n",
    "    else:\n",
    "        if x <= 0:\n",
    "            return y + z\n",
    "        if x >  0:\n",
    "            a = exps(x-1,y+1,z)\n",
    "            key_a = (x-1,y+1,z)\n",
    "            cache[key_a] = a\n",
    "\n",
    "            b = exps(x-2,y+2,z*2)\n",
    "            key_b = (x-2,y+2,z*2)\n",
    "            cache[key_b] = b\n",
    "\n",
    "            c = exps(x-3,y+3,z*3)\n",
    "            key_c = (x-3,y+3,z*3)\n",
    "            cache[key_c] = c\n",
    "\n",
    "            return a + b + c"
   ]
  },
  {
   "cell_type": "code",
   "execution_count": 29,
   "metadata": {},
   "outputs": [
    {
     "name": "stdout",
     "output_type": "stream",
     "text": [
      "0 0 0 = 0\n",
      "2 3 4 = 73\n",
      "4 6 8 = 712\n",
      "6 9 12 = 5233\n",
      "8 12 16 = 36592\n",
      "10 15 20 = 246773\n",
      "12 18 24 = 1623280\n",
      "14 21 28 = 10496585\n",
      "16 24 32 = 66941152\n",
      "18 27 36 = 421957189\n",
      "348089347602676380885589070822523585642423790379026639337628\n"
     ]
    }
   ],
   "source": [
    "for i in range(10):\n",
    "    x = exps(i*2, i*3, i*4)\n",
    "    print(f\"{i*2} {i*3} {i*4} = {x}\")\n",
    "\n",
    "print(exps(150, 400, 800))\n"
   ]
  },
  {
   "cell_type": "code",
   "execution_count": 41,
   "metadata": {},
   "outputs": [],
   "source": [
    "s = '\" : ; , . - + = / \\ | [ ] { } ( ) * ^ &'\n",
    "stop_chars = []\n",
    "for i in s:\n",
    "    if i == ' ':\n",
    "        pass\n",
    "    else:\n",
    "        stop_chars.append(i)"
   ]
  },
  {
   "cell_type": "code",
   "execution_count": 42,
   "metadata": {},
   "outputs": [
    {
     "data": {
      "text/plain": [
       "['\"',\n",
       " ':',\n",
       " ';',\n",
       " ',',\n",
       " '.',\n",
       " '-',\n",
       " '+',\n",
       " '=',\n",
       " '/',\n",
       " '\\\\',\n",
       " '|',\n",
       " '[',\n",
       " ']',\n",
       " '{',\n",
       " '}',\n",
       " '(',\n",
       " ')',\n",
       " '*',\n",
       " '^',\n",
       " '&']"
      ]
     },
     "execution_count": 42,
     "metadata": {},
     "output_type": "execute_result"
    }
   ],
   "source": [
    "stop_chars"
   ]
  },
  {
   "cell_type": "code",
   "execution_count": 44,
   "metadata": {},
   "outputs": [
    {
     "name": "stdout",
     "output_type": "stream",
     "text": [
      "{}\n",
      "{'hello': 1}\n",
      "{'hello': 2, 'my': 2, 'cat': 2, 'and': 1, \"doesn't\": 1, 'say': 1, 'back': 1}\n",
      "{'this': 2, 'is': 2, 'a': 2, 'test': 2, 'of': 1, 'the': 1, 'emergency': 1, 'broadcast': 1, 'network': 1, 'only': 1}\n"
     ]
    }
   ],
   "source": [
    "def word_count(s):\n",
    "    cache = {}\n",
    "    stop_chars = ['\"', ':', ';', ',', '.', '-', '+', '=', '/', '\\\\', '|', '[', ']', '{', '}', '(', ')', '*', '^', '&']\n",
    "    \n",
    "    for i in stop_chars:\n",
    "        s = s.replace(i, '')\n",
    "\n",
    "    words = s.lower().split()\n",
    "    \n",
    "    for word in words:\n",
    "        if word in cache:\n",
    "            cache[word] += 1\n",
    "        else:\n",
    "            cache[word] = 1\n",
    "    return cache\n",
    "\n",
    "\n",
    "\n",
    "print(word_count(\"\"))\n",
    "print(word_count(\"Hello\"))\n",
    "print(word_count('Hello, my cat. And my cat doesn\\'t say \"hello\" back.'))\n",
    "print(word_count('This is a test of the emergency broadcast network. This is only a test.'))"
   ]
  },
  {
   "cell_type": "code",
   "execution_count": 52,
   "metadata": {},
   "outputs": [
    {
     "name": "stdout",
     "output_type": "stream",
     "text": [
      "\n",
      "hello\n",
      "hello\n",
      "cats dogs fish\n",
      "spam eggs sausage and\n"
     ]
    }
   ],
   "source": [
    "\n",
    "def no_dups(s):\n",
    "    # Your code here\n",
    "    cache = {}\n",
    "    words = s.split()\n",
    "    for word in words:\n",
    "        if word in cache:\n",
    "            pass\n",
    "        else:\n",
    "            cache[word] = 1\n",
    "    return \" \".join(list(cache.keys())).strip()\n",
    "    \n",
    "\n",
    "\n",
    "\n",
    "print(no_dups(\"\"))\n",
    "print(no_dups(\"hello\"))\n",
    "print(no_dups(\"hello hello\"))\n",
    "print(no_dups(\"cats dogs fish cats dogs\"))\n",
    "print(no_dups(\"spam spam spam eggs spam sausage spam spam and spam\"))"
   ]
  },
  {
   "cell_type": "code",
   "execution_count": 90,
   "metadata": {},
   "outputs": [],
   "source": [
    "import random\n",
    "\n",
    "# Read in all the words in one go\n",
    "with open(\"input.txt\") as f:\n",
    "    words = f.read()\n",
    "\n",
    "# TODO: analyze which words can follow other words\n",
    "# Your code here\n",
    "words_list = words.split()\n",
    "words_list\n",
    "\n",
    "cache = {}\n",
    "\n",
    "# Create cursor length of words_list, i\n",
    "for i in range(len(words_list) - 1):\n",
    "    \n",
    "    # if word at words_list[cursor] is in the cache\n",
    "    if words_list[i] in cache:\n",
    "        # append next word from word_list to values\n",
    "        cache[words_list[i]].append(words_list[i+1])\n",
    "        \n",
    "    # if word at words_list[cursor] is not in the cache    \n",
    "    else:\n",
    "        # add next word from word_list to values\n",
    "        cache[words_list[i]] = [words_list[i+1]]\n",
    "\n",
    "# TODO: construct 5 random sentences\n",
    "# Your code here\n",
    "\n",
    "# Pick random start word: Capital letter, or capital letter with leading quote sign <\">\n",
    "\n",
    "start_words = []\n",
    "stop_words = []\n",
    "\n",
    "punctuation = ['.', '?', '!']\n",
    "\n",
    "# Creating start and stop words lists\n",
    "for word in list(cache.keys()):\n",
    "    \n",
    "    # Logic for adding words to start words\n",
    "    if (word[0].isupper() == True) or (word[0] == '\"' and word[1].isupper() == True):\n",
    "        start_words.append(word)\n",
    "        \n",
    "    # Logic for adding words to stop words\n",
    "    if word[-1] in punctuation or word[-1] == '\"':\n",
    "        if (word[-1] in punctuation) or (word[-2] in punctuation and word[-1] == '\"'):\n",
    "            stop_words.append(word)\n",
    "\n",
    "five_sentences = []\n",
    "\n",
    "for _ in range(5):\n",
    "    sentence = []\n",
    "\n",
    "    start = random.choice(start_words)\n",
    "    sentence.append(start)\n",
    "\n",
    "    running = True\n",
    "    while running:\n",
    "        next_word = random.choice(cache[sentence[-1]])\n",
    "        sentence.append(next_word)\n",
    "        if next_word in stop_words:\n",
    "            running = False\n",
    "    five_sentences.append(' '.join(sentence))"
   ]
  },
  {
   "cell_type": "code",
   "execution_count": 80,
   "metadata": {},
   "outputs": [
    {
     "data": {
      "text/plain": [
       "True"
      ]
     },
     "execution_count": 80,
     "metadata": {},
     "output_type": "execute_result"
    }
   ],
   "source": [
    "testing = 'hello!\"'\n",
    "testing[-1] in punctuation or testing[-1] == '\"'"
   ]
  },
  {
   "cell_type": "code",
   "execution_count": 91,
   "metadata": {},
   "outputs": [
    {
     "data": {
      "text/plain": [
       "['Dinah, you unwound every bit of things?\"',\n",
       " '\"That\\'s not talk so that it got unwound every bit of the trees and rounder, till at once!',\n",
       " '\"I shall be all your feelings!\"',\n",
       " '\"My precious Lily!',\n",
       " '\"The White King made, when we come up--the regular way--don\\'t get a way over and really frightened whisper--so low, that I heard you!']"
      ]
     },
     "execution_count": 91,
     "metadata": {},
     "output_type": "execute_result"
    }
   ],
   "source": [
    "five_sentences"
   ]
  },
  {
   "cell_type": "code",
   "execution_count": null,
   "metadata": {},
   "outputs": [],
   "source": []
  }
 ],
 "metadata": {
  "kernelspec": {
   "display_name": "scratch",
   "language": "python",
   "name": "scratch"
  },
  "language_info": {
   "codemirror_mode": {
    "name": "ipython",
    "version": 3
   },
   "file_extension": ".py",
   "mimetype": "text/x-python",
   "name": "python",
   "nbconvert_exporter": "python",
   "pygments_lexer": "ipython3",
   "version": "3.7.7"
  }
 },
 "nbformat": 4,
 "nbformat_minor": 4
}
